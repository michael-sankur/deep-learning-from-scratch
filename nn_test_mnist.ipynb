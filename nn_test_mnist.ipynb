{
 "cells": [
  {
   "cell_type": "markdown",
   "metadata": {},
   "source": [
    "## Train a neural network to classify images of hand-drawn numbers (classification)"
   ]
  },
  {
   "cell_type": "code",
   "execution_count": null,
   "metadata": {},
   "outputs": [],
   "source": [
    "# Imports\n",
    "\n",
    "import numpy as np\n",
    "import matplotlib.pyplot as plt\n",
    "\n",
    "from neuralnetwork.neural_network_module import NeuralNetwork, Layer\n",
    "from neuralnetwork.neural_network_module import train_nn_classification, one_hot_to_predictions, prediction_accuracy, confusion_matrix\n",
    "\n",
    "np.random.seed(101) # set random seed\n",
    "\n",
    "plt.rcParams.update({'font.size': 12}) # plot parameters\n"
   ]
  },
  {
   "cell_type": "markdown",
   "metadata": {},
   "source": [
    "### Load, transform, and plot data"
   ]
  },
  {
   "cell_type": "code",
   "execution_count": null,
   "metadata": {},
   "outputs": [],
   "source": [
    "# Load data from sci-kit learn mnist dataset\n",
    "\n",
    "# from sklearn.datasets import fetch_openml\n",
    "\n",
    "# mnist = fetch_openml(\"mnist_784\", version=1)\n",
    "# mnist.keys()\n",
    "\n",
    "# X = np.asarray(mnist[\"data\"])\n",
    "# Y = np.asarray(mnist[\"target\"], dtype=int)\n"
   ]
  },
  {
   "cell_type": "code",
   "execution_count": null,
   "metadata": {},
   "outputs": [],
   "source": [
    "# Function to save MNIST data to CSV\n",
    "\n",
    "# # save MNIST data to csv\n",
    "# import os as os\n",
    "# if not os.path.exists(\"./data\"):\n",
    "#     os.mkdir(\"./data\")\n",
    "# np.savetxt(\"./data/mnist_data.csv\", X, fmt = '%d', delimiter=\",\")\n",
    "# np.savetxt(\"./data/mnist_target.csv\", Y, fmt = '%d', delimiter=\",\")"
   ]
  },
  {
   "cell_type": "code",
   "execution_count": null,
   "metadata": {},
   "outputs": [],
   "source": [
    "# Load MNIST data from CSV, normalize data, and plot\n",
    "\n",
    "# load data from CSV in ./data\n",
    "X = np.loadtxt(\"data/mnist_data.csv\", delimiter=\",\")\n",
    "X = X/255\n",
    "Y = np.loadtxt(\"data/mnist_target.csv\", delimiter=\",\", dtype=int)\n",
    "Y = Y.reshape(-1,1)\n",
    "\n",
    "# plot several data points\n",
    "plt.figure(figsize=(24,12))\n",
    "plt.suptitle(\"Training data and labels\")\n",
    "for kp in range(18):\n",
    "    plt.subplot(3,6,kp+1)\n",
    "    plt.imshow(X[kp,:].reshape(28,28), cmap=plt.get_cmap('gray'))\n",
    "    plt.xlabel(f\"Label: {Y[kp,0]}\")\n",
    "    plt.xticks([])\n",
    "    plt.yticks([])\n",
    "plt.show()\n"
   ]
  },
  {
   "cell_type": "markdown",
   "metadata": {},
   "source": [
    "### Split data into training and test sets"
   ]
  },
  {
   "cell_type": "code",
   "execution_count": null,
   "metadata": {},
   "outputs": [],
   "source": [
    "# Split data into training and set sets\n",
    "\n",
    "print(f\"Size of data: {X.shape}\")\n",
    "\n",
    "# training set\n",
    "X_train = X[0:60000,:]\n",
    "Y_train = Y[0:60000]\n",
    "\n",
    "# test set\n",
    "Y_test = Y[60000:]\n",
    "X_test = X[60000:,:]"
   ]
  },
  {
   "cell_type": "markdown",
   "metadata": {},
   "source": [
    "### Create and train neural network and analyze its performance"
   ]
  },
  {
   "cell_type": "code",
   "execution_count": null,
   "metadata": {},
   "outputs": [],
   "source": [
    "# Create and train neural network\n",
    "\n",
    "nn = NeuralNetwork()\n",
    "\n",
    "# layer_list = []\n",
    "# layer_list.append(Layer(784, None))\n",
    "# layer_list.append(Layer(28, \"relu\"))\n",
    "# layer_list.append(Layer(10, \"softmax\"))\n",
    "# nn._set_layers(layer_list)\n",
    "\n",
    "nn._add_layers([Layer(784, None)])\n",
    "nn._add_layers([Layer(148, \"relu\")])\n",
    "nn._add_layers([Layer(28, \"relu\")])\n",
    "nn._add_layers([Layer(10, \"softmax\")])\n",
    "\n",
    "NN_list, train_accuracy, test_accuracy, epochs = train_nn_classification(nn, X_train, Y_train, 0.10, 100, 10, X_test, Y_test)\n"
   ]
  },
  {
   "cell_type": "code",
   "execution_count": null,
   "metadata": {},
   "outputs": [],
   "source": [
    "# Plot train and test accuracy accross epochs\n",
    "\n",
    "plt.figure(figsize=(12,6))\n",
    "plt.plot(epochs, train_accuracy, 'b.', label=\"Train accuracy\")\n",
    "if len(test_accuracy) == len(epochs):\n",
    "    plt.plot(epochs, test_accuracy, 'g.', label=\"Test accuracy\")\n",
    "plt.xticks(epochs)\n",
    "plt.yticks(np.arange(0,1.1,0.1))\n",
    "plt.ylim([0, 1])\n",
    "plt.title(\"Accuracy of NN on training and test data sets across training epochs\")\n",
    "plt.xlabel(\"Iterations\")\n",
    "plt.ylabel(\"Accuracy\")\n",
    "plt.legend()\n",
    "plt.show()"
   ]
  },
  {
   "cell_type": "code",
   "execution_count": null,
   "metadata": {},
   "outputs": [],
   "source": [
    "# Plot NN results on test data\n",
    "\n",
    "plt.figure(figsize=(24,12))\n",
    "plt.suptitle(\"NN predictions on test data set\")\n",
    "for kp in range(18):\n",
    "    plt.subplot(3,6,kp+1)\n",
    "    plt.imshow(X_test[kp,:].reshape(28,28), cmap=plt.get_cmap('gray'))\n",
    "    Y_pred = one_hot_to_predictions(nn._compute_output(X_test[[kp],:]))[0][0]\n",
    "    if Y_pred == Y_test[kp,0]:\n",
    "        plt.xlabel(f\"Prediction: {Y_pred} | Label: {Y_test[kp,0]}\", color=\"green\")\n",
    "    else:\n",
    "        plt.xlabel(f\"Prediction: {Y_pred} | Label: {Y_test[kp,0]}\", color=\"red\")\n",
    "    plt.xticks([])\n",
    "    plt.yticks([])\n",
    "plt.show()"
   ]
  },
  {
   "cell_type": "code",
   "execution_count": null,
   "metadata": {},
   "outputs": [],
   "source": [
    "# Plot confusion matrix for NN predictions\n",
    "\n",
    "CM_train = confusion_matrix(NN_list[-1], X_train, Y_train)\n",
    "CM_test = confusion_matrix(NN_list[-1], X_test, Y_test)\n",
    "\n",
    "plt.figure(figsize=(12,6))\n",
    "plt.subplot(1,2,1)\n",
    "plt.imshow(CM_train, cmap=\"Blues\")\n",
    "plt.title(\"Training CM\")\n",
    "plt.xlabel(\"Predictions\")\n",
    "plt.ylabel(\"Values\")\n",
    "plt.subplot(1,2,2)\n",
    "plt.title(\"Test CM\")\n",
    "plt.imshow(CM_test, cmap=\"Blues\")\n",
    "plt.xlabel(\"Predictions\")\n",
    "plt.ylabel(\"Values\")\n",
    "plt.show()\n"
   ]
  },
  {
   "cell_type": "code",
   "execution_count": null,
   "metadata": {},
   "outputs": [],
   "source": [
    "# Plot incorrect predictions\n",
    "\n",
    "Y_pred = one_hot_to_predictions(nn._compute_output(X_test))\n",
    "idx = np.where(Y_pred[:,0] != Y_test[:,0])[0]\n",
    "\n",
    "plt.figure(figsize=(24,12))\n",
    "plt.suptitle(\"Incorrect predictions on test data set\")\n",
    "for kp in range(18):\n",
    "    plt.subplot(3,6,kp+1)\n",
    "    plt.imshow(X_test[idx[kp],:].reshape(28,28), cmap=plt.get_cmap('gray'))\n",
    "    plt.xlabel(f\"Prediction: {Y_pred[idx[kp],0]} | Label: {Y_test[idx[kp],0]}\", color=\"red\")\n",
    "    plt.xticks([])\n",
    "    plt.yticks([])\n",
    "\n",
    "plt.show()"
   ]
  },
  {
   "cell_type": "code",
   "execution_count": null,
   "metadata": {},
   "outputs": [],
   "source": []
  }
 ],
 "metadata": {
  "kernelspec": {
   "display_name": "neural_network_test",
   "language": "python",
   "name": "python3"
  },
  "language_info": {
   "codemirror_mode": {
    "name": "ipython",
    "version": 3
   },
   "file_extension": ".py",
   "mimetype": "text/x-python",
   "name": "python",
   "nbconvert_exporter": "python",
   "pygments_lexer": "ipython3",
   "version": "3.11.4"
  },
  "orig_nbformat": 4
 },
 "nbformat": 4,
 "nbformat_minor": 2
}
