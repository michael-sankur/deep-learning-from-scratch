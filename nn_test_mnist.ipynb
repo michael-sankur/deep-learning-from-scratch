{
 "cells": [
  {
   "cell_type": "markdown",
   "metadata": {},
   "source": [
    "## Train a neural network to classify images of hand-drawn numbers"
   ]
  },
  {
   "cell_type": "code",
   "execution_count": null,
   "metadata": {},
   "outputs": [],
   "source": [
    "# Imports\n",
    "\n",
    "import numpy as np\n",
    "import matplotlib.pyplot as plt\n",
    "\n",
    "from neuralnetwork.neural_network_module import NeuralNetwork, Layer\n",
    "from neuralnetwork.neural_network_module import train_nn_classification, one_hot_to_predictions, prediction_accuracy\n",
    "\n",
    "np.random.seed(101) # set random seed\n"
   ]
  },
  {
   "cell_type": "markdown",
   "metadata": {},
   "source": [
    "### Load, transform, and plot data"
   ]
  },
  {
   "cell_type": "code",
   "execution_count": null,
   "metadata": {},
   "outputs": [],
   "source": [
    "# Load data from sci-kit learn mnist dataset\n",
    "\n",
    "# from sklearn.datasets import fetch_openml\n",
    "\n",
    "# mnist = fetch_openml(\"mnist_784\", version=1)\n",
    "# mnist.keys()\n",
    "\n",
    "# X = np.asarray(mnist[\"data\"])\n",
    "# Y = np.asarray(mnist[\"target\"], dtype=int)\n"
   ]
  },
  {
   "cell_type": "code",
   "execution_count": null,
   "metadata": {},
   "outputs": [],
   "source": [
    "# Functions to save MNIST data to csv and load MNIST data from CSV\n",
    "\n",
    "# import os as os\n",
    "\n",
    "# if not os.path.exists(\"./data\"):\n",
    "#     os.mkdir(\"./data\")\n",
    "# np.savetxt(\"./data/mnist_data.csv\", X, fmt = '%d', delimiter=\",\")\n",
    "# np.savetxt(\"./data/mnist_target.csv\", Y, fmt = '%d', delimiter=\",\")\n",
    "\n",
    "# X = np.loadtxt(\"data/mnist_data.csv\", delimiter=\",\")\n",
    "# Y = np.loadtxt(\"data/mnist_target.csv\", delimiter=\",\")"
   ]
  },
  {
   "cell_type": "code",
   "execution_count": null,
   "metadata": {},
   "outputs": [],
   "source": [
    "# Load MNIST data from CSV, normalize data, and plot\n",
    "\n",
    "X = np.loadtxt(\"data/mnist_data.csv\", delimiter=\",\")\n",
    "X = X/255\n",
    "Y = np.loadtxt(\"data/mnist_target.csv\", delimiter=\",\", dtype=int)\n",
    "Y = Y.reshape(-1,1)\n",
    "\n",
    "plt.figure(figsize=(24,12))\n",
    "# plt.title(\"Training Data and Targets\")\n",
    "for kp in range(18):\n",
    "    plt.subplot(3,6,kp+1)\n",
    "    plt.imshow(X[kp,:].reshape(28,28), cmap=plt.get_cmap('gray'))\n",
    "    plt.xlabel(f\"Label: {Y[kp,0]}\", fontsize=12)\n",
    "    plt.xticks([])\n",
    "    plt.yticks([])\n",
    "plt.show()\n"
   ]
  },
  {
   "cell_type": "markdown",
   "metadata": {},
   "source": [
    "### Split data into training and test sets"
   ]
  },
  {
   "cell_type": "code",
   "execution_count": null,
   "metadata": {},
   "outputs": [],
   "source": [
    "# Split data into training and set sets\n",
    "\n",
    "print(f\"Size of data: {X.shape}\")\n",
    "\n",
    "X_train = X[0:60000,:]\n",
    "X_test = X[60000:,:]\n",
    "\n",
    "Y_train = Y[0:60000]\n",
    "Y_test = Y[60000:]"
   ]
  },
  {
   "cell_type": "markdown",
   "metadata": {},
   "source": [
    "### Create functions for training neural network and assessing its performance"
   ]
  },
  {
   "cell_type": "code",
   "execution_count": null,
   "metadata": {},
   "outputs": [],
   "source": [
    "# #\n",
    "\n",
    "# # one-hot function\n",
    "# def one_hot(Y, num_cols:int=2):\n",
    "#     # one_hot_Y = np.zeros((Y.size, Y.max()+1))\n",
    "#     one_hot_Y = np.zeros((Y.size, num_cols))\n",
    "#     one_hot_Y[np.arange(Y.size), Y] = 1\n",
    "#     return one_hot_Y\n",
    "\n",
    "# # transform output of softmax function into a single number\n",
    "# def get_predictions(Y):\n",
    "#     return np.argmax(Y, 1).reshape(-1,1)\n",
    "\n",
    "# # calculate accuracy\n",
    "# def get_accuracy(Y_pred, Y):\n",
    "#     # print(\"Targets:     \", Y[0:24,:].T)\n",
    "#     # print(\"Predictions:\", Y_pred[0:24,:].T)\n",
    "#     # print(f\"Targets:     {[x for x in Y[0:24,0]]}\")\n",
    "#     # print(f\"Predictions: {[x for x in Y_pred[0:24,0]]}\")\n",
    "#     return np.sum(Y_pred == Y)/Y.size\n",
    "\n",
    "# # train neural network using gradient descent to optimize weights and biases\n",
    "# def train_nn(NN: \"NeuralNetwork\", X, Y, alpha, iterations=100, intervals=10):\n",
    "#     print(f\"\\nStarting training of {NN.name}\")\n",
    "#     # Iterate\n",
    "#     for k1 in range(iterations):\n",
    "#         NN._compute_output(X) # make prediction for training data set\n",
    "#         NN._train_step(X, one_hot(Y[:,0], 10), alpha) # compute gradients and perform gradient descent\n",
    "#         Y_pred = get_predictions(NN._compute_output(X)) # get predictions from NN in its current state\n",
    "#         if k1 % intervals == 0:\n",
    "#             print(\"\")\n",
    "#             print(f\"Iteration: {k1} | Train accuracy: {get_accuracy(get_predictions(NN._compute_output(X)), Y):0.4f}\")\n",
    "#             print(f\"Targets:     {[x for x in Y[0:24,0]]}\")\n",
    "#             print(f\"Predictions: {[x for x in Y_pred[0:24,0]]}\")\n",
    "#             # print(\"Predictions:\", Y_pred[0:12,:].T)\n",
    "#             # print(\"Values:     \", Y[0:12,:].T)\n"
   ]
  },
  {
   "cell_type": "markdown",
   "metadata": {},
   "source": [
    "### Create and train neural network and analyze its performance"
   ]
  },
  {
   "cell_type": "code",
   "execution_count": null,
   "metadata": {},
   "outputs": [],
   "source": [
    "#\n",
    "\n",
    "nn = NeuralNetwork()\n",
    "\n",
    "# layer_list = []\n",
    "# layer_list.append(Layer(784, None))\n",
    "# layer_list.append(Layer(28, \"relu\"))\n",
    "# layer_list.append(Layer(10, \"softmax\"))\n",
    "# nn._set_layers(layer_list)\n",
    "\n",
    "nn._add_layers([Layer(784, None)])\n",
    "nn._add_layers([Layer(28, \"relu\")])\n",
    "nn._add_layers([Layer(10, \"softmax\")])\n",
    "\n",
    "NN_list, train_accuracy, test_accuracy, epochs = train_nn_classification(nn, X_train, Y_train, 0.10, 200, 10, X_test, Y_test)\n",
    "\n",
    "print(\"\")\n",
    "print(\"Training Complete\")\n",
    "print(f\"Train accuracy: {prediction_accuracy(one_hot_to_predictions(nn._compute_output(X_train)), Y_train):0.4f}\")\n",
    "print(f\"Test accuracy: {prediction_accuracy(one_hot_to_predictions(nn._compute_output(X_test)), Y_test):0.4f}\")\n"
   ]
  },
  {
   "cell_type": "code",
   "execution_count": null,
   "metadata": {},
   "outputs": [],
   "source": [
    "#\n",
    "\n",
    "plt.figure(figsize=(12,6))\n",
    "plt.plot(epochs, train_accuracy, 'b.', label=\"Train accuracy\")\n",
    "plt.plot(epochs, test_accuracy, 'g.', label=\"Test accuracy\")\n",
    "plt.xticks(epochs)\n",
    "plt.yticks(np.arange(0,1.1,0.1))\n",
    "plt.ylim([0, 1])\n",
    "plt.xlabel(\"Iterations\")\n",
    "plt.ylabel(\"Accuracy\")\n",
    "plt.legend()\n",
    "plt.show()"
   ]
  },
  {
   "cell_type": "code",
   "execution_count": null,
   "metadata": {},
   "outputs": [],
   "source": [
    "# Plot NN results on test data\n",
    "\n",
    "plt.figure(figsize=(24,12))\n",
    "# plt.title(\"Training Data and Targets\")\n",
    "for kp in range(18):\n",
    "    plt.subplot(3,6,kp+1)\n",
    "    plt.imshow(X_test[kp,:].reshape(28,28), cmap=plt.get_cmap('gray'))\n",
    "    if one_hot_to_predictions(nn._compute_output(X_test[[kp],:]))[0][0] == Y_test[kp,0]:\n",
    "        plt.xlabel(f\"Prediction: {one_hot_to_predictions(nn._compute_output(X_test[[kp],:]))[0][0]} | Label: {Y_test[kp,0]}\", fontsize=12, color=\"green\")\n",
    "    else:\n",
    "        plt.xlabel(f\"Prediction: {one_hot_to_predictions(nn._compute_output(X_test[[kp],:]))[0][0]} | Label: {Y_test[kp,0]}\", fontsize=12, color=\"red\")\n",
    "    plt.xticks([])\n",
    "    plt.yticks([])\n",
    "plt.show()"
   ]
  },
  {
   "cell_type": "code",
   "execution_count": null,
   "metadata": {},
   "outputs": [],
   "source": []
  }
 ],
 "metadata": {
  "kernelspec": {
   "display_name": "neural_network_test",
   "language": "python",
   "name": "python3"
  },
  "language_info": {
   "codemirror_mode": {
    "name": "ipython",
    "version": 3
   },
   "file_extension": ".py",
   "mimetype": "text/x-python",
   "name": "python",
   "nbconvert_exporter": "python",
   "pygments_lexer": "ipython3",
   "version": "3.11.4"
  },
  "orig_nbformat": 4
 },
 "nbformat": 4,
 "nbformat_minor": 2
}
