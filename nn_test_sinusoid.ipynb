{
 "cells": [
  {
   "cell_type": "markdown",
   "metadata": {},
   "source": [
    "## Train a neural network to predict a function value (regression)"
   ]
  },
  {
   "cell_type": "code",
   "execution_count": null,
   "metadata": {},
   "outputs": [],
   "source": [
    "# Imports\n",
    "\n",
    "import numpy as np\n",
    "\n",
    "import matplotlib.pyplot as plt\n",
    "\n",
    "from neuralnetwork.neural_network_module import NeuralNetwork, Layer\n",
    "from neuralnetwork.neural_network_module import train_nn_regression, compute_loss\n",
    "\n",
    "np.random.seed(101)\n",
    "\n",
    "plt.rcParams.update({'font.size': 12})"
   ]
  },
  {
   "cell_type": "markdown",
   "metadata": {},
   "source": [
    "### Create and plot data"
   ]
  },
  {
   "cell_type": "code",
   "execution_count": null,
   "metadata": {},
   "outputs": [],
   "source": [
    "# Create data for sinusoid\n",
    "\n",
    "N = int(1e4) # number of samples\n",
    "\n",
    "f = 2 # sinusoid frequency\n",
    "\n",
    "xx = 2*(np.random.rand(N) - 0.5) # independent variable\n",
    "\n",
    "yy = xx + np.sin(2*np.pi*f*xx) + 0.10*np.random.randn(N) # create sinusoid and add Gaussian noise\n",
    "\n",
    "# plot\n",
    "plt.figure(figsize=(12,6))\n",
    "# plt.plot(xx[:,0],yy[:,0])\n",
    "plt.plot(xx,yy,\"b.\")\n",
    "plt.title(\"Data\")\n",
    "plt.xlabel(\"x\")\n",
    "plt.ylabel(\"f(x)\")\n",
    "plt.show()\n"
   ]
  },
  {
   "cell_type": "markdown",
   "metadata": {},
   "source": [
    "### Split data into training and test sets"
   ]
  },
  {
   "cell_type": "code",
   "execution_count": null,
   "metadata": {},
   "outputs": [],
   "source": [
    "# Reshape xx and yy, and split into training and test sets\n",
    "\n",
    "# reshape xx and yy into Nx1 arrays\n",
    "xx = xx.reshape(-1,1)\n",
    "yy = yy.reshape(-1,1)\n",
    "\n",
    "train_test_split = 0.8 # ratio of data for the training set, with (1 - train_test_split) going into the test set\n",
    "\n",
    "# split into train and test sets\n",
    "idx_train = range(0,int(train_test_split*xx.shape[0])) # training set indexes\n",
    "X_train = xx[idx_train,:]\n",
    "Y_train = yy[idx_train,:]\n",
    "\n",
    "idx_test = range(int(train_test_split*xx.shape[0]),xx.shape[0]) # test set indexes\n",
    "X_test = xx[idx_test,:]\n",
    "Y_test = yy[idx_test,:]\n"
   ]
  },
  {
   "cell_type": "code",
   "execution_count": null,
   "metadata": {},
   "outputs": [],
   "source": [
    "# Plot training and test sets\n",
    "\n",
    "plt.figure(figsize=(24,6))\n",
    "plt.subplot(1,2,1)\n",
    "plt.plot(X_train[:,0], Y_train[:,0], \"b.\")\n",
    "plt.title(\"Training set\")\n",
    "plt.xlabel(\"x\")\n",
    "plt.ylabel(\"f(x)\")\n",
    "plt.subplot(1,2,2)\n",
    "plt.plot(X_test[:,0], Y_test[:,0], \"r.\")\n",
    "plt.title(\"Test set\")\n",
    "plt.xlabel(\"x\")\n",
    "plt.ylabel(\"f(x)\")\n",
    "plt.show()\n"
   ]
  },
  {
   "cell_type": "markdown",
   "metadata": {},
   "source": [
    "### Create and train neural network, and analyze its performance"
   ]
  },
  {
   "cell_type": "code",
   "execution_count": null,
   "metadata": {},
   "outputs": [],
   "source": [
    "# Create NN and train\n",
    "\n",
    "# nn = NeuralNetwork()\n",
    "# layer_list = []\n",
    "# layer_list.append(Layer(1, None))\n",
    "# layer_list.append(Layer(8, \"linear\"))\n",
    "# layer_list.append(Layer(8, \"tanh\"))\n",
    "# layer_list.append(Layer(8, \"tanh\"))\n",
    "# layer_list.append(Layer(8, \"tanh\"))\n",
    "# layer_list.append(Layer(8, \"tanh\"))\n",
    "# layer_list.append(Layer(8, \"tanh\"))\n",
    "# layer_list.append(Layer(1, \"tanh\"))\n",
    "\n",
    "nn = NeuralNetwork()\n",
    "layer_list = []\n",
    "layer_list.append(Layer(1, None)) # input layer\n",
    "for k1 in range(0,8):\n",
    "    layer_list.append(Layer(8, \"tanh\"))\n",
    "layer_list.append(Layer(8, \"linear\")) # output layer\n",
    "layer_list.append(Layer(1, \"linear\")) # output layer\n",
    "\n",
    "nn._set_layers(layer_list) # set layer list\n",
    "\n",
    "NN_list, train_loss, test_loss, epochs = train_nn_regression(nn, X_train, Y_train, 0.1, 5000, 1000, X_test, Y_test) # train NN\n",
    "\n",
    "print(\"\")\n",
    "print(\"Training Complete\")\n",
    "print(f\"Train loss: {compute_loss(nn._compute_output(X_train), Y_train):0.6f}\")\n",
    "print(f\"Test loss: {compute_loss(nn._compute_output(X_test), Y_test):0.6f}\")\n"
   ]
  },
  {
   "cell_type": "code",
   "execution_count": null,
   "metadata": {},
   "outputs": [],
   "source": [
    "# Plot training and test loss across training epochs\n",
    "\n",
    "plt.figure(figsize=(24,6))\n",
    "plt.subplot(1,2,1)\n",
    "plt.plot(epochs, train_loss, 'b.', label=\"Train loss\")\n",
    "if len(test_loss) == len(epochs):\n",
    "    plt.plot(epochs, test_loss, 'g.', label=\"Test loss\")\n",
    "plt.xticks(epochs)\n",
    "plt.xlabel(\"Iterations\")\n",
    "plt.ylabel(\"Loss\")\n",
    "plt.legend(fontsize=12)\n",
    "plt.subplot(1,2,2)\n",
    "plt.semilogy(epochs, train_loss, 'b.', label=\"Train loss\")\n",
    "if len(test_loss) == len(epochs):\n",
    "    plt.semilogy(epochs, test_loss, 'g.', label=\"Test loss\")\n",
    "plt.xticks(epochs)\n",
    "plt.xlabel(\"Iterations\")\n",
    "plt.ylabel(\"Loss (log)\")\n",
    "plt.legend(fontsize=12)\n",
    "plt.show()"
   ]
  },
  {
   "cell_type": "code",
   "execution_count": null,
   "metadata": {},
   "outputs": [],
   "source": [
    "# Plot preidctions for training and test sets\n",
    "\n",
    "plt.figure(figsize=(24,6))\n",
    "plt.subplot(1,2,1)\n",
    "plt.plot(X_train[:,0], Y_train[:,0], \"b.\", label=\"Training data\")\n",
    "plt.plot(X_train[:,0], nn._compute_output(X_train)[:,0], \"g.\", label=\"NN prediction\")\n",
    "plt.title(\"Training set\")\n",
    "plt.xlabel(\"x\")\n",
    "plt.ylabel(\"f(x)\")\n",
    "plt.legend(fontsize=12)\n",
    "plt.subplot(1,2,2)\n",
    "plt.plot(X_test[:,0], Y_test[:,0], \"r.\", label=\"Test data\")\n",
    "plt.plot(X_test[:,0], nn._compute_output(X_test)[:,0], \"g.\", label=\"NN prediction\")\n",
    "plt.title(\"Test set\")\n",
    "plt.xlabel(\"x\")\n",
    "plt.ylabel(\"f(x)\")\n",
    "plt.legend(fontsize=12)\n",
    "plt.show()\n"
   ]
  },
  {
   "cell_type": "code",
   "execution_count": null,
   "metadata": {},
   "outputs": [],
   "source": []
  }
 ],
 "metadata": {
  "kernelspec": {
   "display_name": "neural_network_test",
   "language": "python",
   "name": "python3"
  },
  "language_info": {
   "codemirror_mode": {
    "name": "ipython",
    "version": 3
   },
   "file_extension": ".py",
   "mimetype": "text/x-python",
   "name": "python",
   "nbconvert_exporter": "python",
   "pygments_lexer": "ipython3",
   "version": "3.11.4"
  },
  "orig_nbformat": 4
 },
 "nbformat": 4,
 "nbformat_minor": 2
}
