{
 "cells": [
  {
   "cell_type": "markdown",
   "metadata": {},
   "source": [
    "## Train a neural network to classify regions in a 2D space depending on their distance to select points (classification)"
   ]
  },
  {
   "cell_type": "code",
   "execution_count": null,
   "metadata": {},
   "outputs": [],
   "source": [
    "# Imports\n",
    "\n",
    "import numpy as np\n",
    "\n",
    "import matplotlib.pyplot as plt\n",
    "\n",
    "import copy as copy\n",
    "\n",
    "from neuralnetwork.neural_network_module import NeuralNetwork, Layer\n",
    "from neuralnetwork.neural_network_module import train_nn_classification, one_hot_to_predictions, confusion_matrix\n",
    "\n",
    "np.random.seed(101) # set random seed\n",
    "\n",
    "plt.rcParams.update({'font.size': 12}) # plot parameters"
   ]
  },
  {
   "cell_type": "markdown",
   "metadata": {},
   "source": [
    "### Functions to label points in the (x,y) plane according to their L1 or L2 norm distance from select points"
   ]
  },
  {
   "cell_type": "code",
   "execution_count": null,
   "metadata": {},
   "outputs": [],
   "source": [
    "# Functions to label points in the (x,y) plane\n",
    "\n",
    "# label points by their L1 norm distance along the x-axis to specified points\n",
    "def grid_X_by_L1(X, points, distances):\n",
    "    yy = np.zeros((X.shape[0],1))\n",
    "    for kd, distance in enumerate(distances):\n",
    "        for kp in points:\n",
    "            idx = np.where(abs(X[:,0] - kp) <= distance)\n",
    "            yy[idx,0] = kd+1\n",
    "    return yy\n",
    "\n",
    "# label points by their L1 norm distance along the y-axis to specified points\n",
    "def grid_Y_by_L1(X, points, distances):\n",
    "    yy = np.zeros((X.shape[0],1))\n",
    "    for kd, distance in enumerate(distances):\n",
    "        for kp in points:\n",
    "            idx = np.where(abs(X[:,1] - kp) <= distance)\n",
    "            yy[idx,0] = kd+1\n",
    "    return yy\n",
    "\n",
    "# label points by their L1 norm distance to specified points\n",
    "def grid_by_L1(X, points, distances):\n",
    "    yy = np.zeros((X.shape[0],1))\n",
    "    for kd, distance in enumerate(distances):\n",
    "        for kx in points:\n",
    "            for ky in points:\n",
    "                # idx = np.where((abs(X[:,0] - kx) <= distance) | (abs(X[:,1] - ky) <= distance))\n",
    "                # idx = np.where((abs(X[:,0] - kx) <= distance) & (abs(X[:,1] - ky) <= distance))\n",
    "                idx = np.where(abs(X[:,0] - kx) + abs(X[:,1] - ky) <= distance)\n",
    "                yy[idx] = kd+1\n",
    "    return yy\n",
    "\n",
    "# label points by their L2 norm distance to specified points\n",
    "def grid_by_L2(X, points, distances):\n",
    "    yy = np.zeros((X.shape[0],1))\n",
    "    for kd, distance in enumerate(distances):\n",
    "        for kx in points:\n",
    "            for ky in points:\n",
    "                idx = np.where(((X[:,0] - kx)**2 + (X[:,1] - ky)**2 <= distance**2))\n",
    "                yy[idx] = kd+1\n",
    "    return yy"
   ]
  },
  {
   "cell_type": "markdown",
   "metadata": {},
   "source": [
    "### Create and label data"
   ]
  },
  {
   "cell_type": "code",
   "execution_count": null,
   "metadata": {},
   "outputs": [],
   "source": [
    "# Create data and plot\n",
    "\n",
    "N = int(1e4) # number of samples\n",
    "\n",
    "xx = 2*(np.random.rand(N,2) - 0.5)\n",
    "\n",
    "yy = np.zeros((N,4), dtype=int) # labels\n",
    "yy[:,[0]] = grid_X_by_L1(xx, np.arange(-1,1.5,0.5), [0.1, 0.05])\n",
    "yy[:,[1]] = grid_Y_by_L1(xx, np.arange(-1,1.5,0.5), [0.1, 0.05])\n",
    "yy[:,[2]] = grid_by_L1(xx, np.arange(-1,1.5,0.5), [0.2, 0.1])\n",
    "yy[:,[3]] = grid_by_L2(xx, np.arange(-1,1.5,0.5), [0.2, 0.1])\n",
    "\n",
    "plt.figure(figsize=(24,6))\n",
    "plt.subplot(1,4,1)\n",
    "plt.scatter(xx[:,0], xx[:,1], c=yy[:,0], cmap=\"jet\", s=2)\n",
    "plt.title(\"Labeled by L1 norm along x axis\")\n",
    "plt.xlabel(\"x\")\n",
    "plt.ylabel(\"y\")\n",
    "plt.subplot(1,4,2)\n",
    "plt.scatter(xx[:,0], xx[:,1], c=yy[:,1], cmap=\"jet\", s=2)\n",
    "plt.title(\"Labeled by L1 norm along y axis\")\n",
    "plt.xlabel(\"x\")\n",
    "plt.ylabel(\"y\")\n",
    "plt.subplot(1,4,3)\n",
    "plt.scatter(xx[:,0], xx[:,1], c=yy[:,2], cmap=\"jet\", s=2)\n",
    "plt.title(\"Labeled by L1 norm distance\")\n",
    "plt.xlabel(\"x\")\n",
    "plt.ylabel(\"y\")\n",
    "plt.subplot(1,4,4)\n",
    "plt.scatter(xx[:,0], xx[:,1], c=yy[:,3], cmap=\"jet\", s=2)\n",
    "plt.title(\"Labeled by L2 norm distance\")\n",
    "plt.xlabel(\"x\")\n",
    "plt.ylabel(\"y\")\n",
    "plt.show()\n"
   ]
  },
  {
   "cell_type": "markdown",
   "metadata": {},
   "source": [
    "### Split data into training and test sets"
   ]
  },
  {
   "cell_type": "code",
   "execution_count": null,
   "metadata": {},
   "outputs": [],
   "source": [
    "# Split data into train and test sets\n",
    "\n",
    "train_test_split = 0.8\n",
    "\n",
    "# split into train and test sets\n",
    "idx_train = range(0,int(train_test_split*xx.shape[0])) # training set indexes\n",
    "X_train = xx[idx_train,:]\n",
    "Y_train = yy[idx_train,:]\n",
    "\n",
    "idx_test = range(int(train_test_split*xx.shape[0]),xx.shape[0]) # test set indexes\n",
    "X_test = xx[idx_test,:]\n",
    "Y_test = yy[idx_test,:]"
   ]
  },
  {
   "cell_type": "markdown",
   "metadata": {},
   "source": [
    "### Select label on which to train NN"
   ]
  },
  {
   "cell_type": "code",
   "execution_count": null,
   "metadata": {},
   "outputs": [],
   "source": [
    "# Select norm data for training neural network, and plotting results\n",
    "\n",
    "idx_norm = 2"
   ]
  },
  {
   "cell_type": "markdown",
   "metadata": {},
   "source": [
    "### Create and train neural network and analyze its performance"
   ]
  },
  {
   "cell_type": "code",
   "execution_count": null,
   "metadata": {},
   "outputs": [],
   "source": [
    "# Create and train the neural network\n",
    "\n",
    "nn = NeuralNetwork()\n",
    "\n",
    "layer_list = []\n",
    "# layer_list.append(Layer())\n",
    "\n",
    "nn._add_layers([Layer(2, None)])\n",
    "nn._add_layers([Layer(64, \"relu\")])\n",
    "nn._add_layers([Layer(64, \"relu\")])\n",
    "nn._add_layers([Layer(64, \"relu\")])\n",
    "nn._add_layers([Layer(64, \"relu\")])\n",
    "# nn._add_layers([Layer(16, \"relu\")])\n",
    "# nn._add_layers([Layer(16, \"relu\")])\n",
    "# nn._add_layers([Layer(16, \"relu\")])\n",
    "# nn._add_layers([Layer(16, \"relu\")])\n",
    "nn._add_layers([Layer(64, \"linear\")])\n",
    "nn._add_layers([Layer(3, \"softmax\")])\n",
    "\n",
    "NN_list, train_accuracy, test_accuracy, epochs = train_nn_classification(nn, X_train, Y_train[:,[idx_norm]], 0.020, 5000, 500, X_test, Y_test[:,[idx_norm]])\n"
   ]
  },
  {
   "cell_type": "code",
   "execution_count": null,
   "metadata": {},
   "outputs": [],
   "source": [
    "# Plot accuracy of NN across training epochs\n",
    "\n",
    "plt.figure(figsize=(12,6))\n",
    "plt.plot(epochs, train_accuracy, 'b.', label=\"Train accuracy\")\n",
    "if len(test_accuracy) == len(epochs):\n",
    "    plt.plot(epochs, test_accuracy, 'g.', label=\"Test accuracy\")\n",
    "plt.xticks(epochs)\n",
    "plt.xlabel(\"Iterations\")\n",
    "plt.ylabel(\"Accuracy\")\n",
    "plt.legend()\n",
    "plt.show()"
   ]
  },
  {
   "cell_type": "code",
   "execution_count": null,
   "metadata": {},
   "outputs": [],
   "source": [
    "# Plot training data and NN predictions\n",
    "\n",
    "# NN predictions on training and test sets\n",
    "Y_pred_train = one_hot_to_predictions(nn._compute_output(X_train))\n",
    "Y_pred_test = one_hot_to_predictions(nn._compute_output(X_test))\n",
    "\n",
    "#\n",
    "X_plot = 2*(np.random.rand(int(1e5),2)-0.5) # data for NN predictions across input space\n",
    "Y_plot = one_hot_to_predictions(nn._compute_output(X_plot)) # NN predictions\n",
    "\n",
    "\n",
    "plt.figure(figsize=(24,6))\n",
    "plt.subplot(1,4,1)\n",
    "plt.scatter(xx[:,0], xx[:,1], c=yy[:,idx_norm], cmap=\"jet\", s=2)\n",
    "plt.title(\"Raw Data\")\n",
    "plt.xlabel(\"x\")\n",
    "plt.ylabel(\"y\")\n",
    "plt.subplot(1,4,2)\n",
    "plt.scatter(X_train[:,0], X_train[:,1], c=Y_pred_train, cmap=\"jet\", s=2)\n",
    "plt.title(\"Predictions on Training Data Set\")\n",
    "plt.xlabel(\"x\")\n",
    "plt.ylabel(\"y\")\n",
    "plt.subplot(1,4,3)\n",
    "plt.scatter(X_test[:,0], X_test[:,1], c=Y_pred_test, cmap=\"jet\", s=2)\n",
    "plt.title(\"Predictions on Test Data Set\")\n",
    "plt.xlabel(\"x\")\n",
    "plt.ylabel(\"y\")\n",
    "plt.subplot(1,4,4)\n",
    "plt.scatter(X_plot[:,0], X_plot[:,1], c=Y_plot, cmap=\"jet\", s=2)\n",
    "plt.title(\"NN Predictions\")\n",
    "plt.xlabel(\"x\")\n",
    "plt.ylabel(\"y\")\n",
    "plt.show()"
   ]
  },
  {
   "cell_type": "code",
   "execution_count": null,
   "metadata": {},
   "outputs": [],
   "source": [
    "# Plot confusion matrix for NN predictions\n",
    "\n",
    "CM_train = confusion_matrix(NN_list[-1], X_train, Y_train)\n",
    "CM_test = confusion_matrix(NN_list[-1], X_test, Y_test)\n",
    "\n",
    "plt.figure(figsize=(12,6))\n",
    "plt.subplot(1,2,1)\n",
    "plt.imshow(CM_train, cmap=\"Blues\")\n",
    "plt.xticks([0, 1, 2])\n",
    "plt.yticks([0, 1, 2])\n",
    "plt.title(\"Training CM\")\n",
    "plt.xlabel(\"Predictions\")\n",
    "plt.ylabel(\"Values\")\n",
    "plt.subplot(1,2,2)\n",
    "plt.xticks([0, 1, 2])\n",
    "plt.yticks([0, 1, 2])\n",
    "plt.imshow(CM_test, cmap=\"Blues\")\n",
    "plt.title(\"Test CM\")\n",
    "plt.xlabel(\"Predictions\")\n",
    "plt.ylabel(\"Values\")\n",
    "plt.show()\n"
   ]
  },
  {
   "cell_type": "code",
   "execution_count": null,
   "metadata": {},
   "outputs": [],
   "source": []
  }
 ],
 "metadata": {
  "kernelspec": {
   "display_name": "neural_network_test",
   "language": "python",
   "name": "python3"
  },
  "language_info": {
   "codemirror_mode": {
    "name": "ipython",
    "version": 3
   },
   "file_extension": ".py",
   "mimetype": "text/x-python",
   "name": "python",
   "nbconvert_exporter": "python",
   "pygments_lexer": "ipython3",
   "version": "3.11.4"
  },
  "orig_nbformat": 4
 },
 "nbformat": 4,
 "nbformat_minor": 2
}
