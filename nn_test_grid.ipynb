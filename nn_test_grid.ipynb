{
 "cells": [
  {
   "cell_type": "code",
   "execution_count": null,
   "metadata": {},
   "outputs": [],
   "source": []
  },
  {
   "cell_type": "markdown",
   "metadata": {},
   "source": [
    "## Neural Network"
   ]
  },
  {
   "cell_type": "code",
   "execution_count": null,
   "metadata": {},
   "outputs": [],
   "source": [
    "#\n",
    "\n",
    "import numpy as np\n",
    "\n",
    "import matplotlib.pyplot as plt\n",
    "\n",
    "from neuralnetwork.neural_network_module import NeuralNetwork, Layer\n",
    "\n",
    "np.random.seed(101)"
   ]
  },
  {
   "cell_type": "markdown",
   "metadata": {},
   "source": [
    "### Create and plot data series"
   ]
  },
  {
   "cell_type": "code",
   "execution_count": null,
   "metadata": {},
   "outputs": [],
   "source": [
    "# Create data for sinusoid\n",
    "\n",
    "N = int(1e4) # number of samples\n",
    "\n",
    "xx = 2*(np.random.rand(N,2) - 0.5)\n",
    "\n",
    "yy = np.zeros((N,3), dtype=int)\n",
    "\n",
    "\n",
    "\n",
    "for kx in np.arange(-1,1.25,0.25):\n",
    "    idx = abs(xx[:,0] - kx) <= 0.1/2\n",
    "    # print(idx)\n",
    "    yy[idx,0] = 1\n",
    "    idx = abs(xx[:,0] - kx) <= 0.05/2\n",
    "    yy[idx,0] = 2\n",
    "for ky in np.arange(-1,1.25,0.25):\n",
    "    idx = abs(xx[:,1] - ky) <= 0.1/2\n",
    "    yy[idx,1] = 1\n",
    "    idx = abs(xx[:,1] - ky) <= 0.05/2\n",
    "    yy[idx,1] = 2\n",
    "for kx in np.arange(0,0.25,0.25):\n",
    "    for ky in np.arange(0,0.25,0.25):\n",
    "        # idx = np.where(((xx - kx)**2 <= 0.01**2) & ((yy - ky)**2 <= 0.01**2))\n",
    "        # yy[idx,2] = 1\n",
    "        # idx = np.where(((xx - kx)**2 <= 0.025**2) & ((yy - ky)**2 <= 0.025**2))\n",
    "        # yy[idx,2] = 2\n",
    "\n",
    "        idx = np.where(((xx[:,0]- kx)**2 + (xx[:,1] - ky)**2 <= 0.25**2))\n",
    "        yy[idx,2] = 1\n",
    "        idx = np.where(((xx[:,0] - kx)**2 + (xx[:,1] - ky)**2 <= 0.5**2))\n",
    "        yy[idx,2] = 2\n",
    "\n",
    "\n",
    "xp, yp = np.meshgrid(np.linspace(-1,1,1001), np.linspace(-1,1,1001))\n",
    "zxp = np.zeros(xp.shape)\n",
    "zyp = np.zeros(xp.shape)\n",
    "zxyp = np.zeros(xp.shape)\n",
    "for kx in np.arange(-1,1.25,0.25):\n",
    "    idx = abs(xp - kx) <= 0.1/2\n",
    "    zxp[idx] = 1\n",
    "    idx = abs(xp - kx) <= 0.05/2\n",
    "    zxp[idx] = 2\n",
    "for ky in np.arange(-1,1.25,0.25):\n",
    "    idx = abs(yp - ky) <= 0.1/2\n",
    "    zyp[idx] = 1\n",
    "    idx = abs(yp - ky) <= 0.05/2\n",
    "    zyp[idx] = 2\n",
    "for kx in np.arange(-1,1.25,0.25):\n",
    "    for ky in np.arange(-1,1.25,0.25):\n",
    "        idx = np.where(((xp - kx)**2 <= 0.01**2) & ((yp - ky)**2 <= 0.01**2))\n",
    "        zxyp[idx] = 1\n",
    "        idx = np.where(((xp - kx)**2 <= 0.025**2) & ((yp - ky)**2 <= 0.025**2))\n",
    "        zxyp[idx] = 2\n",
    "\n",
    "        idx = np.where(((xp - kx)**2 + (yp - ky)**2 <= 0.1**2))\n",
    "        zxyp[idx] = 1\n",
    "        idx = np.where(((xp - kx)**2 + (yp - ky)**2 <= 0.05**2))\n",
    "        zxyp[idx] = 2\n",
    "\n",
    "xp, yp = np.meshgrid(np.linspace(-1,1,1001), np.linspace(-1,1,1001))\n",
    "zxp = np.zeros(xp.shape)\n",
    "zyp = np.zeros(xp.shape)\n",
    "zxyp = np.zeros(xp.shape)\n",
    "for kx in np.arange(0,0.25,0.25):\n",
    "    idx = abs(xp - kx) <= 0.1/2\n",
    "    zxp[idx] = 1\n",
    "    idx = abs(xp - kx) <= 0.05/2\n",
    "    zxp[idx] = 2\n",
    "for ky in np.arange(0,0.25,0.25):\n",
    "    idx = abs(yp - ky) <= 0.1/2\n",
    "    zyp[idx] = 1\n",
    "    idx = abs(yp - ky) <= 0.05/2\n",
    "    zyp[idx] = 2\n",
    "for kx in np.arange(0,0.25,0.25):\n",
    "    for ky in np.arange(0.025,0.25):\n",
    "        # idx = np.where(((xp - kx)**2 <= 0.25**2) & ((yp - ky)**2 <= 0.25**2))\n",
    "        # zxyp[idx] = 1\n",
    "        # idx = np.where(((xp - kx)**2 <= 0.5**2) & ((yp - ky)**2 <= 0.5**2))\n",
    "        # zxyp[idx] = 2\n",
    "\n",
    "        idx = np.where(((xp - kx)**2 + (yp - ky)**2 <= 0.5**2))\n",
    "        zxyp[idx] = 1\n",
    "        idx = np.where(((xp - kx)**2 + (yp - ky)**2 <= 0.25**2))\n",
    "        zxyp[idx] = 2\n",
    "\n",
    "\n",
    "plt.figure(figsize=(24,6))\n",
    "plt.subplot(1,3,1)\n",
    "plt.imshow(zxp, cmap=plt.get_cmap('gray'), extent=[-1, 1, -1, 1])\n",
    "plt.xlabel(\"x\")\n",
    "plt.ylabel(\"y\")\n",
    "plt.subplot(1,3,2)\n",
    "plt.imshow(zyp, cmap=plt.get_cmap('gray'), extent=[-1, 1, -1, 1])\n",
    "plt.xlabel(\"x\")\n",
    "plt.ylabel(\"y\")\n",
    "plt.subplot(1,3,3)\n",
    "plt.imshow(zxyp, cmap=plt.get_cmap('gray'), extent=[-1, 1, -1, 1])\n",
    "plt.xlabel(\"x\")\n",
    "plt.ylabel(\"y\")\n",
    "plt.show()\n",
    "\n",
    "\n",
    "\n",
    "# print(xx)\n",
    "# print(yy)"
   ]
  },
  {
   "cell_type": "markdown",
   "metadata": {},
   "source": [
    "### Split data into training and test sets"
   ]
  },
  {
   "cell_type": "code",
   "execution_count": null,
   "metadata": {},
   "outputs": [],
   "source": [
    "#\n",
    "\n",
    "X_train = xx[0:8000,:]\n",
    "X_test = xx[8000:,:]\n",
    "\n",
    "Y_train = yy[0:8000]\n",
    "Y_test = yy[8000:]"
   ]
  },
  {
   "cell_type": "markdown",
   "metadata": {},
   "source": [
    "### Create functions for training neural network and assessing its performance"
   ]
  },
  {
   "cell_type": "code",
   "execution_count": null,
   "metadata": {},
   "outputs": [],
   "source": [
    "#\n",
    "\n",
    "def one_hot(Y, num_cols:int=2):\n",
    "    # one_hot_Y = np.zeros((Y.shape[0], Y.max()+1))\n",
    "    one_hot_Y = np.zeros((Y.shape[0], num_cols))\n",
    "    one_hot_Y[np.arange(0, Y.shape[0]), Y] = 1\n",
    "    return one_hot_Y\n",
    "\n",
    "def get_predictions(A2):\n",
    "    return np.argmax(A2, 1).reshape(-1,1)\n",
    "\n",
    "def get_accuracy(Y_pred, Y):\n",
    "    # print(\"Values:\", Y.T)\n",
    "    # print(\"Predictions:\", Y_pred.T)    \n",
    "    return np.sum(Y_pred == Y)/Y.shape[0]\n",
    "\n",
    "def train_nn(NN: \"NeuralNetwork\", X, Y, alpha, iterations=100, intervals=10):\n",
    "    for k1 in range(iterations):\n",
    "        NN._compute_output(X)\n",
    "        NN._train_step(X, one_hot(Y[:,0], 3), alpha)\n",
    "        Y_pred = get_predictions(NN._compute_output(X))\n",
    "        if k1 % intervals == 0:\n",
    "            print(\"\")\n",
    "            print(f\"Iteration: {k1} | Train accuracy: {get_accuracy(get_predictions(NN._compute_output(X)), Y):0.4f}\")\n",
    "            print(f\"Targets:     {[x for x in Y[0:24,0]]}\")\n",
    "            print(f\"Predictions: {[x for x in Y_pred[0:24,0]]}\")\n",
    "\n"
   ]
  },
  {
   "cell_type": "markdown",
   "metadata": {},
   "source": [
    "### Create and train neural network and analyze its performance"
   ]
  },
  {
   "cell_type": "code",
   "execution_count": null,
   "metadata": {},
   "outputs": [],
   "source": [
    "#\n",
    "\n",
    "nn = NeuralNetwork()\n",
    "\n",
    "layer_list = []\n",
    "# layer_list.append(Layer())\n",
    "\n",
    "nn._add_layers([Layer(2, None)])\n",
    "nn._add_layers([Layer(16, \"relu\")])\n",
    "nn._add_layers([Layer(16, \"relu\")])\n",
    "nn._add_layers([Layer(16, \"relu\")])\n",
    "nn._add_layers([Layer(16, \"relu\")])\n",
    "nn._add_layers([Layer(16, \"relu\")])\n",
    "nn._add_layers([Layer(16, \"relu\")])\n",
    "nn._add_layers([Layer(16, \"relu\")])\n",
    "nn._add_layers([Layer(16, \"relu\")])\n",
    "nn._add_layers([Layer(16, \"linear\")])\n",
    "nn._add_layers([Layer(3, \"softmax\")])\n",
    "\n",
    "train_nn(nn, X_train, Y_train[:,[2]], 0.010, 1000, 100)\n",
    "\n",
    "print(\"\")\n",
    "print(\"Training Complete\")\n",
    "print(f\"Train accuracy: {get_accuracy(get_predictions(nn._compute_output(X_train)), Y_train[:,[2]]):0.4f}\")\n",
    "print(f\"Test accuracy: {get_accuracy(get_predictions(nn._compute_output(X_test)), Y_test[:,[2]]):0.4f}\")\n"
   ]
  },
  {
   "cell_type": "code",
   "execution_count": null,
   "metadata": {},
   "outputs": [],
   "source": []
  }
 ],
 "metadata": {
  "kernelspec": {
   "display_name": "neural_network_test",
   "language": "python",
   "name": "python3"
  },
  "language_info": {
   "codemirror_mode": {
    "name": "ipython",
    "version": 3
   },
   "file_extension": ".py",
   "mimetype": "text/x-python",
   "name": "python",
   "nbconvert_exporter": "python",
   "pygments_lexer": "ipython3",
   "version": "3.11.4"
  },
  "orig_nbformat": 4
 },
 "nbformat": 4,
 "nbformat_minor": 2
}
