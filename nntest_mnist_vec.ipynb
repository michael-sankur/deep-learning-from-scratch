{
 "cells": [
  {
   "cell_type": "code",
   "execution_count": null,
   "metadata": {},
   "outputs": [],
   "source": [
    "#\n",
    "\n"
   ]
  },
  {
   "cell_type": "code",
   "execution_count": null,
   "metadata": {},
   "outputs": [],
   "source": [
    "#\n",
    "\n",
    "import numpy as np\n",
    "\n",
    "import matplotlib.pyplot as plt\n",
    "\n",
    "from neuralnetwork.nn_vec_af import NeuralNetwork, Layer\n",
    "\n",
    "np.random.seed(42)\n"
   ]
  },
  {
   "cell_type": "code",
   "execution_count": null,
   "metadata": {},
   "outputs": [],
   "source": [
    "# from sklearn.datasets import fetch_openml\n",
    "\n",
    "# mnist = fetch_openml(\"mnist_784\", version=1)\n",
    "# mnist.keys()\n"
   ]
  },
  {
   "cell_type": "code",
   "execution_count": null,
   "metadata": {},
   "outputs": [],
   "source": [
    "# X = np.asarray(mnist[\"data\"])\n",
    "# Y = np.asarray(mnist[\"target\"], dtype=int)\n",
    "\n",
    "# np.savetxt(\"data/mnist_data.csv\", X, fmt = '%d', delimiter=\",\")\n",
    "# np.savetxt(\"data/mnist_target.csv\", Y, fmt = '%d', delimiter=\",\")\n",
    "\n",
    "# XX = np.loadtxt(\"data/mnist_data.csv\", delimiter=\",\")\n",
    "# YY = np.loadtxt(\"data/mnist_target.csv\", delimiter=\",\")"
   ]
  },
  {
   "cell_type": "code",
   "execution_count": null,
   "metadata": {},
   "outputs": [],
   "source": [
    "#\n",
    "\n",
    "# X = np.asarray(mnist[\"data\"])\n",
    "# X = X/255\n",
    "# m, n = X.shape\n",
    "\n",
    "# Y = np.asarray(mnist[\"target\"], dtype=int)\n",
    "\n",
    "X = np.loadtxt(\"data/mnist_data.csv\", delimiter=\",\")\n",
    "X = X/255\n",
    "Y = np.loadtxt(\"data/mnist_target.csv\", delimiter=\",\", dtype=int)\n",
    "\n",
    "# np.random.shuffle(data) # shuffle before splitting into dev and training sets\n",
    "\n",
    "# data_dev = data[0:1000].T\n",
    "# Y_dev = data_dev[0]\n",
    "# X_dev = data_dev[1:n]\n",
    "# X_dev = X_dev / 255.\n",
    "\n",
    "# data_train = data[1000:m].T\n",
    "# Y_train = data_train[0]\n",
    "# X_train = data_train[1:n]\n",
    "# X_train = X_train / 255.\n",
    "# _,m_train = X_train.shape\n",
    "\n",
    "X_train = X[0:60000,:].T\n",
    "X_test = X[60000:,:].T\n",
    "\n",
    "Y_train = Y[0:60000]\n",
    "Y_test = Y[60000:]\n",
    "\n",
    "#\n",
    "\n",
    "plt.figure(figsize=(24,8))\n",
    "for kp in range(18):\n",
    "    plt.subplot(3,6,kp+1)\n",
    "    plt.imshow(X[kp,:].reshape(28,28), cmap=plt.get_cmap('gray'))\n",
    "    plt.xlabel(Y[kp])\n",
    "plt.show()\n"
   ]
  },
  {
   "cell_type": "code",
   "execution_count": null,
   "metadata": {},
   "outputs": [],
   "source": [
    "#\n",
    "\n",
    "def one_hot(Y):\n",
    "    one_hot_Y = np.zeros((Y.size, Y.max() + 1))\n",
    "    one_hot_Y = np.zeros((Y.size, 10))\n",
    "    one_hot_Y[np.arange(Y.size), Y] = 1\n",
    "    one_hot_Y = one_hot_Y.T\n",
    "    return one_hot_Y\n",
    "\n",
    "def get_predictions(A2):\n",
    "    return np.argmax(A2, 0)\n",
    "\n",
    "def get_accuracy(Y_pred, Y):\n",
    "    print(\"Predictions:\", Y_pred)\n",
    "    print(\"Values:\", Y)\n",
    "    return np.sum(Y_pred == Y) / Y.size\n",
    "\n",
    "def gradient_descent(NN: \"NeuralNetwork\", X, Y, alpha, iterations=100, intervals=10):\n",
    "    # W1, b1, W2, b2 = init_params()\n",
    "    for k1 in range(iterations):\n",
    "        # Z1, A1, Z2, A2 = forward_prop(W1, b1, W2, b2, X)\n",
    "        NN._compute_output(X)\n",
    "        # dW1, db1, dW2, db2 = backward_prop(Z1, A1, Z2, A2, W1, W2, X, Y)\n",
    "        NN._train_step(X, one_hot(Y), alpha)\n",
    "        # W1, b1, W2, b2 = update_params(W1, b1, W2, b2, dW1, db1, dW2, db2, alpha)\n",
    "        Y_pred = nn._compute_output(X)\n",
    "        if k1 % intervals == 0:\n",
    "            print(\"\")\n",
    "            print(\"Iteration: \", k1)\n",
    "            Y_pred = get_predictions(nn._compute_output(X))\n",
    "            print(f\"Train accuracy: {get_accuracy(Y_pred, Y):0.4f}\")\n",
    "\n",
    "#\n",
    "nn = NeuralNetwork()\n",
    "\n",
    "layer_list = []\n",
    "# layer_list.append(Layer())\n",
    "\n",
    "L01 = Layer(784, None)\n",
    "L02 = Layer(28, \"relu\")\n",
    "L03 = Layer(10, \"softmax\")\n",
    "layer_list = [L01, L02, L03]\n",
    "\n",
    "nn._set_layers(layer_list)\n",
    "\n",
    "gradient_descent(nn, X_train, Y_train, 0.10, 100, 10)\n",
    "\n",
    "print(\"\\n\\nTraining Complete\")\n",
    "Y_pred = get_predictions(nn._compute_output(X_test))\n",
    "print(f\"Test accuracy: {get_accuracy(Y_pred, Y_test):0.4f}\")\n",
    "\n"
   ]
  },
  {
   "cell_type": "code",
   "execution_count": null,
   "metadata": {},
   "outputs": [],
   "source": [
    "nn.layer_list[2].weights.shape"
   ]
  },
  {
   "cell_type": "code",
   "execution_count": null,
   "metadata": {},
   "outputs": [],
   "source": [
    "type(X_train)"
   ]
  },
  {
   "cell_type": "code",
   "execution_count": null,
   "metadata": {},
   "outputs": [],
   "source": [
    "X.shape"
   ]
  },
  {
   "cell_type": "code",
   "execution_count": null,
   "metadata": {},
   "outputs": [],
   "source": [
    "# np.savetxt(\"data/mnist_data.csv\",X*255, fmt = '%d', delimiter=\",\")\n",
    "# np.savetxt(\"data/mnist_target.csv\",Y, fmt = '%d', delimiter=\",\")"
   ]
  },
  {
   "cell_type": "code",
   "execution_count": null,
   "metadata": {},
   "outputs": [],
   "source": []
  },
  {
   "cell_type": "code",
   "execution_count": null,
   "metadata": {},
   "outputs": [],
   "source": [
    "nn = NeuralNetwork()\n",
    "layer_list = []\n",
    "layer_list.append(Layer(4, None))\n",
    "layer_list.append(Layer(4, \"linear\"))\n",
    "nn._set_layers(layer_list)\n",
    "\n",
    "input = np.ones((4,1))\n",
    "\n",
    "assert (nn.layer_list[0]._compute_zz(input) == input).all()\n",
    "\n",
    "assert (nn._compute_output(input) == nn.layer_list[1].weights@input + nn.layer_list[1].biases).all()"
   ]
  },
  {
   "cell_type": "code",
   "execution_count": null,
   "metadata": {},
   "outputs": [],
   "source": [
    "import numpy as np\n",
    "\n",
    "layer_output = np.ones((4,1))\n",
    "\n",
    "assert(np.tanh(layer_output) == (np.exp(layer_output) - np.exp(-layer_output)) / (np.exp(layer_output) + np.exp(-layer_output))).all()"
   ]
  },
  {
   "cell_type": "code",
   "execution_count": null,
   "metadata": {},
   "outputs": [],
   "source": [
    "\n",
    "# nn = NeuralNetwork()\n",
    "# layer_list = []\n",
    "# layer_list.append(Layer(4, None))\n",
    "# layer_list.append(Layer(4, \"linear\"))\n",
    "# layer_list.append(Layer(4, \"relu\"))\n",
    "# layer_list.append(Layer(4, \"tanh\"))\n",
    "# layer_list.append(Layer(4, \"softmax\"))\n",
    "# nn._set_layers(layer_list)\n",
    "\n",
    "# input = np.ones((4,1))\n",
    "\n",
    "# assert (nn.layer_list[0]._compute_zz(input) == input).all()\n",
    "# assert (nn.layer_list[0]._compute_aa(input) == input).all()\n",
    "# layer_output = nn.layer_list[0].aa\n",
    "\n",
    "# assert (nn.layer_list[1]._compute_zz(layer_output) == nn.layer_list[1].weights@layer_output + nn.layer_list[1].biases).all()\n",
    "# layer_output = nn.layer_list[1]._compute_zz(layer_output)\n",
    "# assert (nn.layer_list[1]._compute_aa(layer_output) == layer_output).all()\n",
    "# layer_output = nn.layer_list[1]._compute_aa(layer_output)\n",
    "\n",
    "# assert (nn.layer_list[2]._compute_zz(layer_output) == nn.layer_list[2].weights@layer_output + nn.layer_list[2].biases).all()\n",
    "# layer_output = nn.layer_list[2]._compute_zz(layer_output)\n",
    "# assert (nn.layer_list[2]._compute_aa(layer_output) == np.maximum(layer_output, 0)).all()\n",
    "# layer_output = nn.layer_list[2]._compute_aa(layer_output)\n",
    "\n",
    "# assert (nn.layer_list[3]._compute_zz(layer_output) == nn.layer_list[3].weights@layer_output + nn.layer_list[3].biases).all()\n",
    "# layer_output = nn.layer_list[3]._compute_zz(layer_output)\n",
    "# assert (nn.layer_list[3]._compute_aa(layer_output) == (np.exp(layer_output) - np.exp(-layer_output)) / (np.exp(layer_output) + np.exp(-layer_output))).all()\n",
    "# layer_output = nn.layer_list[3]._compute_aa(layer_output)\n",
    "\n",
    "# assert (nn.layer_list[4]._compute_zz(layer_output) == nn.layer_list[4].weights@layer_output + nn.layer_list[4].biases).all()\n",
    "# layer_output = nn.layer_list[4]._compute_zz(layer_output)\n",
    "# assert (nn.layer_list[4]._compute_aa(layer_output) == (np.exp(layer_output)/np.sum(np.exp(layer_output)))).all()\n",
    "# layer_output = nn.layer_list[4]._compute_aa(layer_output)\n"
   ]
  },
  {
   "cell_type": "code",
   "execution_count": null,
   "metadata": {},
   "outputs": [],
   "source": [
    "layer_output"
   ]
  },
  {
   "cell_type": "code",
   "execution_count": null,
   "metadata": {},
   "outputs": [],
   "source": [
    "np.tanh(layer_output)"
   ]
  },
  {
   "cell_type": "code",
   "execution_count": null,
   "metadata": {},
   "outputs": [],
   "source": [
    "(np.exp(layer_output) - np.exp(-layer_output)) / (np.exp(layer_output) + np.exp(-layer_output))"
   ]
  },
  {
   "cell_type": "code",
   "execution_count": null,
   "metadata": {},
   "outputs": [],
   "source": [
    "(np.exp(layer_output) - np.exp(-layer_output)) / (np.exp(layer_output) + np.exp(-layer_output)) - np.tanh(layer_output)"
   ]
  },
  {
   "cell_type": "code",
   "execution_count": null,
   "metadata": {},
   "outputs": [],
   "source": []
  }
 ],
 "metadata": {
  "kernelspec": {
   "display_name": "neural_network_test",
   "language": "python",
   "name": "python3"
  },
  "language_info": {
   "codemirror_mode": {
    "name": "ipython",
    "version": 3
   },
   "file_extension": ".py",
   "mimetype": "text/x-python",
   "name": "python",
   "nbconvert_exporter": "python",
   "pygments_lexer": "ipython3",
   "version": "3.11.4"
  },
  "orig_nbformat": 4
 },
 "nbformat": 4,
 "nbformat_minor": 2
}
