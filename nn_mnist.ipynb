{
 "cells": [
  {
   "cell_type": "code",
   "execution_count": null,
   "metadata": {},
   "outputs": [],
   "source": [
    "#"
   ]
  },
  {
   "cell_type": "code",
   "execution_count": null,
   "metadata": {},
   "outputs": [],
   "source": [
    "#\n",
    "\n",
    "import numpy as np\n",
    "\n",
    "from matplotlib import pyplot as plt"
   ]
  },
  {
   "cell_type": "code",
   "execution_count": null,
   "metadata": {},
   "outputs": [],
   "source": [
    "from sklearn.datasets import fetch_openml\n",
    "\n",
    "mnist = fetch_openml(\"mnist_784\", version=1)\n",
    "mnist.keys()\n"
   ]
  },
  {
   "cell_type": "code",
   "execution_count": null,
   "metadata": {},
   "outputs": [],
   "source": [
    "X = np.asarray(mnist[\"data\"].values)\n",
    "Y = np.asarray(mnist[\"target\"].values)\n",
    "\n",
    "X = X.reshape(-1,28,28)"
   ]
  },
  {
   "cell_type": "code",
   "execution_count": null,
   "metadata": {},
   "outputs": [],
   "source": [
    "#\n",
    "\n",
    "plt.figure(figsize=(12,12))\n",
    "for kp in range(9):\n",
    "    plt.subplot(3,3,kp+1)\n",
    "    plt.imshow(mnist[\"data\"].values[[kp],:].reshape(28,28), cmap=plt.get_cmap('gray'))\n",
    "    plt.xlabel(mnist[\"target\"][kp])\n",
    "plt.show()\n",
    "\n",
    "plt.figure(figsize=(12,12))\n",
    "for kp in range(9):\n",
    "    plt.subplot(3,3,kp+1)\n",
    "    plt.imshow(X[kp,:,:], cmap=plt.get_cmap('gray'))\n",
    "    plt.xlabel(Y[kp])\n",
    "plt.show()"
   ]
  },
  {
   "cell_type": "code",
   "execution_count": null,
   "metadata": {},
   "outputs": [],
   "source": [
    "#\n",
    "\n",
    "X_train = X[0:60000,:,:]\n",
    "X_test = X[60000:,:,:]\n",
    "\n",
    "Y_train = Y[0:60000]\n",
    "Y_test = Y[60000:]"
   ]
  },
  {
   "cell_type": "code",
   "execution_count": null,
   "metadata": {},
   "outputs": [],
   "source": [
    "#\n",
    "\n",
    "X = np.asarray(mnist[\"data\"])\n",
    "X = X/255\n",
    "m, n = X.shape\n",
    "\n",
    "Y = np.asarray(mnist[\"target\"], dtype=int)\n",
    "\n",
    "# np.random.shuffle(data) # shuffle before splitting into dev and training sets\n",
    "\n",
    "# data_dev = data[0:1000].T\n",
    "# Y_dev = data_dev[0]\n",
    "# X_dev = data_dev[1:n]\n",
    "# X_dev = X_dev / 255.\n",
    "\n",
    "# data_train = data[1000:m].T\n",
    "# Y_train = data_train[0]\n",
    "# X_train = data_train[1:n]\n",
    "# X_train = X_train / 255.\n",
    "# _,m_train = X_train.shape\n",
    "\n",
    "X_train = X[0:60000,:].T\n",
    "X_test = X[60000:,:].T\n",
    "\n",
    "Y_train = Y[0:60000]\n",
    "Y_test = Y[60000:]\n"
   ]
  },
  {
   "cell_type": "code",
   "execution_count": null,
   "metadata": {},
   "outputs": [],
   "source": [
    "#\n",
    "\n",
    "plt.figure(figsize=(12,12))\n",
    "for kp in range(9):\n",
    "    plt.subplot(3,3,kp+1)\n",
    "    plt.imshow(X[kp,:].reshape(28,28), cmap=plt.get_cmap('gray'))\n",
    "    plt.xlabel(Y[kp])\n",
    "plt.show()"
   ]
  },
  {
   "cell_type": "code",
   "execution_count": null,
   "metadata": {},
   "outputs": [],
   "source": [
    "#\n",
    "\n",
    "def init_params():\n",
    "    W1 = np.random.rand(10, 784) - 0.5\n",
    "    b1 = np.random.rand(10, 1) - 0.5\n",
    "    W2 = np.random.rand(10, 10) - 0.5\n",
    "    b2 = np.random.rand(10, 1) - 0.5\n",
    "    return W1, b1, W2, b2\n",
    "\n",
    "def ReLU(Z):\n",
    "    return np.maximum(Z, 0)\n",
    "\n",
    "def softmax(Z):\n",
    "    A = np.exp(Z) / sum(np.exp(Z))\n",
    "    return A\n",
    "    \n",
    "def forward_prop(W1, b1, W2, b2, X):\n",
    "    Z1 = W1.dot(X) + b1\n",
    "    A1 = ReLU(Z1)\n",
    "    Z2 = W2.dot(A1) + b2\n",
    "    A2 = softmax(Z2)\n",
    "    return Z1, A1, Z2, A2\n",
    "\n",
    "def ReLU_deriv(Z):\n",
    "    return Z > 0\n",
    "\n",
    "def one_hot(Y):\n",
    "    one_hot_Y = np.zeros((Y.size, Y.max() + 1))\n",
    "    one_hot_Y = np.zeros((Y.size, 10))\n",
    "    one_hot_Y[np.arange(Y.size), Y] = 1\n",
    "    one_hot_Y = one_hot_Y.T\n",
    "    return one_hot_Y\n",
    "\n",
    "def backward_prop(Z1, A1, Z2, A2, W1, W2, X, Y):\n",
    "    one_hot_Y = one_hot(Y)\n",
    "    dZ2 = A2 - one_hot_Y\n",
    "    dW2 = 1 / m * dZ2.dot(A1.T)\n",
    "    db2 = 1 / m * np.sum(dZ2,1).reshape(A2.shape[0],1)\n",
    "    dZ1 = W2.T.dot(dZ2) * ReLU_deriv(Z1)\n",
    "    dW1 = 1 / m * dZ1.dot(X.T)\n",
    "    db1 = 1 / m * np.sum(dZ1,1).reshape(A1.shape[0],1)\n",
    "    return dW1, db1, dW2, db2\n",
    "\n",
    "def update_params(W1, b1, W2, b2, dW1, db1, dW2, db2, alpha):\n",
    "    W1 = W1 - alpha * dW1\n",
    "    b1 = b1 - alpha * db1    \n",
    "    W2 = W2 - alpha * dW2  \n",
    "    b2 = b2 - alpha * db2    \n",
    "    return W1, b1, W2, b2\n"
   ]
  },
  {
   "cell_type": "code",
   "execution_count": null,
   "metadata": {},
   "outputs": [],
   "source": [
    "#\n",
    "\n",
    "def get_predictions(A2):\n",
    "    return np.argmax(A2, 0)\n",
    "\n",
    "def get_accuracy(predictions, Y):\n",
    "    print(predictions, Y)\n",
    "    return np.sum(predictions == Y) / Y.size\n",
    "\n",
    "def gradient_descent(X, Y, alpha, iterations):\n",
    "    W1, b1, W2, b2 = init_params()\n",
    "    for ki in range(iterations):\n",
    "        Z1, A1, Z2, A2 = forward_prop(W1, b1, W2, b2, X)\n",
    "        dW1, db1, dW2, db2 = backward_prop(Z1, A1, Z2, A2, W1, W2, X, Y)\n",
    "        W1, b1, W2, b2 = update_params(W1, b1, W2, b2, dW1, db1, dW2, db2, alpha)\n",
    "        predictions = get_predictions(A2)\n",
    "        if ki % 50 == 0:\n",
    "            print(\"Iteration: \", ki)\n",
    "            predictions = get_predictions(A2)\n",
    "            print(get_accuracy(predictions, Y))\n",
    "        \n",
    "    return W1, b1, W2, b2, A1, A2, Z1, Z2, predictions\n"
   ]
  },
  {
   "cell_type": "code",
   "execution_count": null,
   "metadata": {},
   "outputs": [],
   "source": [
    "#\n",
    "\n",
    "W1, b1, W2, b2, A1, A2, Z1, Z2, Y_pred = gradient_descent(X_train, Y_train, 0.10, 300)\n",
    "predictions = get_predictions(A2)\n",
    "print(get_accuracy(predictions, Y_train))\n"
   ]
  },
  {
   "cell_type": "code",
   "execution_count": null,
   "metadata": {},
   "outputs": [],
   "source": [
    "print(get_accuracy(predictions, Y_train))"
   ]
  },
  {
   "cell_type": "code",
   "execution_count": null,
   "metadata": {},
   "outputs": [],
   "source": [
    "one_hot_Y = np.zeros((Y_train.size, int(Y_train.max()) + 1))"
   ]
  },
  {
   "cell_type": "code",
   "execution_count": null,
   "metadata": {},
   "outputs": [],
   "source": [
    "np.sum(Y_pred == Y_train)/Y_train.shape[0]"
   ]
  },
  {
   "cell_type": "code",
   "execution_count": null,
   "metadata": {},
   "outputs": [],
   "source": [
    "(W1@X_train).shape"
   ]
  },
  {
   "cell_type": "code",
   "execution_count": null,
   "metadata": {},
   "outputs": [],
   "source": [
    "one_hot_Y = one_hot(Y_pred)\n",
    "dZ2 = A2 - one_hot_Y\n",
    "dW2 = 1 / m * dZ2.dot(A1.T)\n",
    "db2 = 1 / m * np.sum(dZ2).reshape(b2.size,1)\n",
    "dZ1 = W2.T.dot(dZ2) * ReLU_deriv(Z1)\n",
    "dW1 = 1 / m * dZ1.dot(X_train.T)\n",
    "db1 = 1 / m * np.sum(dZ1,1)"
   ]
  },
  {
   "cell_type": "code",
   "execution_count": null,
   "metadata": {},
   "outputs": [],
   "source": [
    "Z1 + b1"
   ]
  },
  {
   "cell_type": "code",
   "execution_count": null,
   "metadata": {},
   "outputs": [],
   "source": [
    "X_train.shape"
   ]
  },
  {
   "cell_type": "code",
   "execution_count": null,
   "metadata": {},
   "outputs": [],
   "source": []
  }
 ],
 "metadata": {
  "kernelspec": {
   "display_name": "neural_network_test",
   "language": "python",
   "name": "python3"
  },
  "language_info": {
   "codemirror_mode": {
    "name": "ipython",
    "version": 3
   },
   "file_extension": ".py",
   "mimetype": "text/x-python",
   "name": "python",
   "nbconvert_exporter": "python",
   "pygments_lexer": "ipython3",
   "version": "3.11.4"
  },
  "orig_nbformat": 4
 },
 "nbformat": 4,
 "nbformat_minor": 2
}
