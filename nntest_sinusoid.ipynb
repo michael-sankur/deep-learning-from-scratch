{
 "cells": [
  {
   "cell_type": "code",
   "execution_count": null,
   "metadata": {},
   "outputs": [],
   "source": [
    "#\n",
    "\n"
   ]
  },
  {
   "cell_type": "code",
   "execution_count": null,
   "metadata": {},
   "outputs": [],
   "source": [
    "#\n",
    "\n",
    "import numpy as np\n",
    "\n",
    "import matplotlib.pyplot as plt\n",
    "\n",
    "from neuralnetwork.nn_vec_af import NeuralNetwork, Layer\n",
    "\n",
    "np.random.seed(42)"
   ]
  },
  {
   "cell_type": "code",
   "execution_count": null,
   "metadata": {},
   "outputs": [],
   "source": [
    "N = int(1e4)\n",
    "\n",
    "xx = 2*(np.random.rand(N) - 0.5)\n",
    "# xx = np.linspace(-1,1,N)\n",
    "\n",
    "yy = np.zeros((N,1))\n",
    "yy = np.sin(2*np.pi*2*xx) + 0.05*np.random.randn(N)\n",
    "\n",
    "plt.figure(figsize=(12,6))\n",
    "# plt.plot(xx[:,0],yy[:,0])\n",
    "plt.plot(xx,yy,\"b.\")\n",
    "plt.show()\n",
    "\n",
    "# for kx in np.arange(-1,1.25,0.25):\n",
    "#     idx = abs(xx[:,0] - kx) <= 0.1/2\n",
    "#     yy[idx,0] = 0.5\n",
    "#     idx = abs(xx[:,0] - kx) <= 0.05/2\n",
    "#     yy[idx,0] = 1\n",
    "# for ky in np.arange(-1,1.25,0.25):\n",
    "#     idx = abs(xx[:,1] - ky) <= 0.1/2\n",
    "#     yy[idx,1] = 0.5\n",
    "#     idx = abs(xx[:,1] - ky) <= 0.05/2\n",
    "#     yy[idx,1] = 1\n",
    "\n",
    "print(xx)\n",
    "print(yy)"
   ]
  },
  {
   "cell_type": "code",
   "execution_count": null,
   "metadata": {},
   "outputs": [],
   "source": [
    "xx = xx.reshape(-1,1)\n",
    "yy = yy.reshape(-1,1)"
   ]
  },
  {
   "cell_type": "code",
   "execution_count": null,
   "metadata": {},
   "outputs": [],
   "source": [
    "idx_train = range(0,int(0.8*xx.shape[0]))\n",
    "xx_train = xx[idx_train,:]\n",
    "yy_train = yy[idx_train,:]\n",
    "\n",
    "idx_test = range(int(0.8*xx.shape[0]),xx.shape[0])\n",
    "xx_test = xx[idx_test,:]\n",
    "yy_test = yy[idx_test,:]"
   ]
  },
  {
   "cell_type": "code",
   "execution_count": null,
   "metadata": {},
   "outputs": [],
   "source": [
    "plt.figure(figsize=(12,6))\n",
    "plt.plot(xx_train[:,0],yy_train[:,0],\"b.\")\n",
    "plt.show()\n",
    "\n",
    "plt.figure(figsize=(12,6))\n",
    "plt.plot(xx_test[:,0],yy_test[:,0],\"r.\")\n",
    "plt.show()"
   ]
  },
  {
   "cell_type": "code",
   "execution_count": null,
   "metadata": {},
   "outputs": [],
   "source": [
    "#\n",
    "\n",
    "def get_predictions(A2):\n",
    "    return np.argmax(A2, 0)\n",
    "\n",
    "def get_accuracy(Y_pred, Y):\n",
    "    # print(\"Predictions:\", Y_pred)\n",
    "    # print(\"Values:\", Y)\n",
    "    return np.sum((Y_pred - Y)**2)/Y.size\n",
    "\n",
    "def gradient_descent(NN: \"NeuralNetwork\", X, Y, alpha, iterations=1000, intervals=100):\n",
    "    flag01 = False\n",
    "    # W1, b1, W2, b2 = init_params()\n",
    "    for k1 in range(iterations):\n",
    "        # Z1, A1, Z2, A2 = forward_prop(W1, b1, W2, b2, X)\n",
    "        NN._compute_output(X)\n",
    "        # dW1, db1, dW2, db2 = backward_prop(Z1, A1, Z2, A2, W1, W2, X, Y)\n",
    "        NN._train_step(X, Y, alpha)\n",
    "        # W1, b1, W2, b2 = update_params(W1, b1, W2, b2, dW1, db1, dW2, db2, alpha)\n",
    "        Y_pred = nn._compute_output(X)\n",
    "        if k1 % intervals == 0:\n",
    "            print(\"Iteration: \", k1)\n",
    "            Y_pred = nn._compute_output(X)\n",
    "            print(f\"Train accuracy: {get_accuracy(Y_pred, Y)}\")\n",
    "        # if get_accuracy(Y_pred, Y) <= 0.1 and flag01 == False:\n",
    "        #     flag01 = True\n",
    "        #     alpha = alpha*10\n",
    "\n",
    "# nn = NeuralNetwork()\n",
    "# layer_list = []\n",
    "# layer_list.append(Layer(1, None))\n",
    "# layer_list.append(Layer(8, \"linear\"))\n",
    "# layer_list.append(Layer(8, \"tanh\"))\n",
    "# layer_list.append(Layer(8, \"tanh\"))\n",
    "# layer_list.append(Layer(8, \"tanh\"))\n",
    "# layer_list.append(Layer(8, \"tanh\"))\n",
    "# layer_list.append(Layer(8, \"tanh\"))\n",
    "# layer_list.append(Layer(1, \"tanh\"))\n",
    "\n",
    "nn = NeuralNetwork()\n",
    "layer_list = []\n",
    "layer_list.append(Layer(1, None))\n",
    "for k1 in range(0,4):\n",
    "    layer_list.append(Layer(8, \"tanh\"))\n",
    "layer_list.append(Layer(1, \"tanh\"))\n",
    "\n",
    "nn._set_layers(layer_list)\n",
    "\n",
    "gradient_descent(nn, xx_train.T, yy_train.T, 0.1, 10000, 1000)\n",
    "\n",
    "print(\"\")\n",
    "print(\"Training Complete\")\n",
    "print(f\"Test accuracy: {get_accuracy(nn._compute_output(xx_test.T), yy_test.T)}\")\n"
   ]
  },
  {
   "cell_type": "code",
   "execution_count": null,
   "metadata": {},
   "outputs": [],
   "source": [
    "# nn._compute_output(xx_test.T)"
   ]
  },
  {
   "cell_type": "code",
   "execution_count": null,
   "metadata": {},
   "outputs": [],
   "source": [
    "# yy_pred = np.zeros(yy_test.shape)\n",
    "\n",
    "# for k1 in range(0,xx_test.shape[0]):\n",
    "\n",
    "#     yy_pred[k1,:] = nn._compute_output(xx_test[[k1],:])\n",
    "\n",
    "yy_train_pred = nn._compute_output(xx_train.T).T\n",
    "yy_test_pred = nn._compute_output(xx_test.T).T\n",
    "\n",
    "plt.figure(figsize=(24,6))\n",
    "plt.subplot(1,2,1)\n",
    "plt.plot(xx_train[:,0],yy_train[:,0],\"b.\")\n",
    "plt.plot(xx_train[:,0],yy_train_pred[:,0],\"g.\")\n",
    "plt.subplot(1,2,2)\n",
    "plt.plot(xx_test[:,0],yy_test[:,0],\"r.\")\n",
    "plt.plot(xx_test[:,0],yy_test_pred[:,0],\"g.\")\n",
    "plt.show()\n"
   ]
  },
  {
   "cell_type": "code",
   "execution_count": null,
   "metadata": {},
   "outputs": [],
   "source": [
    "yy_test.size"
   ]
  },
  {
   "cell_type": "code",
   "execution_count": null,
   "metadata": {},
   "outputs": [],
   "source": [
    "yy_pred = np.zeros(yy_test.shape)"
   ]
  },
  {
   "cell_type": "code",
   "execution_count": null,
   "metadata": {},
   "outputs": [],
   "source": [
    "xx_train.shape"
   ]
  },
  {
   "cell_type": "code",
   "execution_count": null,
   "metadata": {},
   "outputs": [],
   "source": [
    "xx_train"
   ]
  },
  {
   "cell_type": "code",
   "execution_count": null,
   "metadata": {},
   "outputs": [],
   "source": [
    "from"
   ]
  }
 ],
 "metadata": {
  "kernelspec": {
   "display_name": "neural_network_test",
   "language": "python",
   "name": "python3"
  },
  "language_info": {
   "codemirror_mode": {
    "name": "ipython",
    "version": 3
   },
   "file_extension": ".py",
   "mimetype": "text/x-python",
   "name": "python",
   "nbconvert_exporter": "python",
   "pygments_lexer": "ipython3",
   "version": "3.11.4"
  },
  "orig_nbformat": 4
 },
 "nbformat": 4,
 "nbformat_minor": 2
}
